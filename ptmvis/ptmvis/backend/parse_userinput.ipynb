{
 "cells": [
  {
   "attachments": {},
   "cell_type": "markdown",
   "metadata": {},
   "source": [
    "### Read in user provided file and \n",
    "### -check if multiple proteins are present\n",
    "### -parse to internal format (RES   POS MOD [additional columns])"
   ]
  },
  {
   "cell_type": "code",
   "execution_count": 21,
   "metadata": {},
   "outputs": [],
   "source": [
    "from psm_utils.io import read_file\n",
    "import pandas as pd"
   ]
  },
  {
   "cell_type": "code",
   "execution_count": 25,
   "metadata": {},
   "outputs": [],
   "source": [
    "def read_ionbot(file):\n",
    "    return file"
   ]
  },
  {
   "cell_type": "code",
   "execution_count": 26,
   "metadata": {},
   "outputs": [],
   "source": [
    "def read_msfragger(file):\n",
    "    return file"
   ]
  },
  {
   "cell_type": "code",
   "execution_count": null,
   "metadata": {},
   "outputs": [],
   "source": [
    "def parse_to_internal(file):\n",
    "    return file"
   ]
  },
  {
   "cell_type": "code",
   "execution_count": 22,
   "metadata": {},
   "outputs": [],
   "source": [
    "user_flag = \"percolator\" # here goes the thing the user selected from the dropdown. has to be one of [msms, msamanda, mzid, idxml, percolator, xtandem] or [ionbot, msfragger]\n",
    "user_file = \"example_input/percolator_PXD001077-Velos005137.pout\" # here goes the path to the users file"
   ]
  },
  {
   "cell_type": "code",
   "execution_count": 27,
   "metadata": {},
   "outputs": [],
   "source": [
    "try:\n",
    "    if user_flag == \"ionbot\":\n",
    "        psm_df = read_ionbot(user_file)\n",
    "    elif user_flag == \"msfragger\":\n",
    "        psm_df = read_msfragger(user_file)\n",
    "    else:\n",
    "        psm_list = read_file(user_file, filetype = user_flag)\n",
    "        psm_df = parse_to_internal(psm_list)\n",
    "except:\n",
    "    print(\"Your file could not be parsed. Have you selected the right format?\")"
   ]
  },
  {
   "cell_type": "code",
   "execution_count": null,
   "metadata": {},
   "outputs": [],
   "source": [
    "# check if user file contains more than one protein\n",
    "if len(psm_df[\"protein\"].unique()) > 1:\n",
    "    print(\"Your file contains more than 1 protein. Which one would you like to visualise?\")"
   ]
  },
  {
   "cell_type": "code",
   "execution_count": 16,
   "metadata": {},
   "outputs": [],
   "source": [
    "test_files = {}\n",
    "test_files[\"example_input/maxquant_msms.txt\"] = \"msms\"\n",
    "#test_files[\"example_input/ionbot.modifications.csv\"] = \"ionbot\"\n",
    "test_files[\"example_input/msamanda_HeLa.csv\"] = \"msamanda\"\n",
    "test_files[\"example_input/msgf_PXD001077-Velos005137.mzid\"] = \"mzid\"\n",
    "test_files[\"example_input/openms_QExHF04054_tandem.idXML\"] = \"idxml\"\n",
    "test_files[\"example_input/percolator_PXD001077-Velos005137.pout\"] = \"percolator\"\n",
    "test_files[\"example_input/xtandem_PXD001077.t.xml\"] = \"xtandem\""
   ]
  },
  {
   "cell_type": "code",
   "execution_count": 17,
   "metadata": {},
   "outputs": [
    {
     "name": "stdout",
     "output_type": "stream",
     "text": [
      "example_input/maxquant_msms.txt\n",
      "msms\n",
      "example_input/msamanda_HeLa.csv\n",
      "msamanda\n",
      "example_input/msgf_PXD001077-Velos005137.mzid\n",
      "mzid\n",
      "example_input/openms_QExHF04054_tandem.idXML\n",
      "idxml\n",
      "example_input/percolator_PXD001077-Velos005137.pout\n",
      "percolator\n",
      "example_input/xtandem_PXD001077.t.xml\n",
      "xtandem\n"
     ]
    }
   ],
   "source": [
    "for file, flag in test_files.items():\n",
    "    print(file)\n",
    "    print(flag)\n",
    "    psm_list = read_file(filename = file, filetype = flag)\n",
    "\n"
   ]
  }
 ],
 "metadata": {
  "kernelspec": {
   "display_name": "proteomics",
   "language": "python",
   "name": "python3"
  },
  "language_info": {
   "codemirror_mode": {
    "name": "ipython",
    "version": 3
   },
   "file_extension": ".py",
   "mimetype": "text/x-python",
   "name": "python",
   "nbconvert_exporter": "python",
   "pygments_lexer": "ipython3",
   "version": "3.10.10"
  },
  "orig_nbformat": 4
 },
 "nbformat": 4,
 "nbformat_minor": 2
}
