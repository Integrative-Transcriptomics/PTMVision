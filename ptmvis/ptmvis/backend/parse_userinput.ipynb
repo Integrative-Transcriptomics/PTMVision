{
 "cells": [
  {
   "attachments": {},
   "cell_type": "markdown",
   "metadata": {},
   "source": [
    "### Read in user provided file\n",
    "Support: ionbot (ionbot.modifications.csv), MSFragger (psm.tsv), open pFind (.proteins)"
   ]
  },
  {
   "cell_type": "code",
   "execution_count": 1,
   "metadata": {},
   "outputs": [],
   "source": [
    "import re\n",
    "import pandas as pd\n",
    "from Bio import SeqIO\n",
    "from unimod_mapper import UnimodMapper"
   ]
  },
  {
   "cell_type": "code",
   "execution_count": 2,
   "metadata": {},
   "outputs": [],
   "source": [
    "user_flag = \"msfragger\" # here goes the thing the user selected from the dropdown. has to be one of [ionbot, msfragger, openpfind]\n",
    "user_file = \"example_input/msfragger_psm.tsv\" # here goes the path to the users file\n",
    "fasta = \"fastas/uniprot_sprot.fasta\" # this is the fasta with the protein sequences. if the user doesnt provide one, we assume the protein IDs are in swissprot and use the uniprot_sprot.fasta"
   ]
  },
  {
   "cell_type": "code",
   "execution_count": 3,
   "metadata": {},
   "outputs": [],
   "source": [
    "mapper = UnimodMapper()"
   ]
  },
  {
   "cell_type": "code",
   "execution_count": 4,
   "metadata": {},
   "outputs": [],
   "source": [
    "uniprot_to_sequence = {}\n",
    "for record in SeqIO.parse(fasta, \"fasta\"):\n",
    "    sequence = record.seq\n",
    "    uniprot_id = record.id.split(\"|\")[1]\n",
    "    uniprot_to_sequence[uniprot_id] = str(sequence)"
   ]
  },
  {
   "cell_type": "code",
   "execution_count": 5,
   "metadata": {},
   "outputs": [],
   "source": [
    "def get_start_position_pept_in_prot(pept, prot):\n",
    "    return prot.find(pept, 1)"
   ]
  },
  {
   "cell_type": "code",
   "execution_count": 6,
   "metadata": {},
   "outputs": [],
   "source": [
    "def read_file(file, flag):\n",
    "    if flag == \"ionbot\":\n",
    "        df = read_ionbot(file)\n",
    "    elif flag == \"msfragger\":\n",
    "        df = read_msfragger(file)\n",
    "    elif flag == \"openpfind\":\n",
    "        df = read_openpfind(file)\n",
    "    return df"
   ]
  },
  {
   "cell_type": "code",
   "execution_count": 7,
   "metadata": {},
   "outputs": [],
   "source": [
    "def read_ionbot(file):\n",
    "    df = pd.read_csv(file)\n",
    "    return df"
   ]
  },
  {
   "cell_type": "code",
   "execution_count": 8,
   "metadata": {},
   "outputs": [],
   "source": [
    "def map_mass_to_unimod(mods):\n",
    "    modstr = \"\"\n",
    "    for mod in mods.split(\",\"):\n",
    "        pos_aa = mod.split(\"(\")[0]\n",
    "\n",
    "        mass = re.search(r'\\(.*?\\)', mod)[0]\n",
    "        mass = float(mass.replace(\"(\", \"\").replace(\")\", \"\"))\n",
    "        mapped = mapper.mass_to_names(mass, decimals=4)\n",
    "\n",
    "        mapped_names = \" or \".join(list(mapped))\n",
    "        if len(list(mapped)) > 0:\n",
    "            modstr += pos_aa + \"[\" + mapped_names + \"]\"\n",
    "\n",
    "    return modstr\n",
    "\n"
   ]
  },
  {
   "cell_type": "code",
   "execution_count": 9,
   "metadata": {},
   "outputs": [],
   "source": [
    "def from_psm_to_protein(df):\n",
    "    # refactor this disgrace of a code snippet\n",
    "    uniprot_ids = []\n",
    "    modifications = []\n",
    "    positions = []\n",
    "    for index, psm in df.iterrows():\n",
    "        uniprot_id = psm[\"Protein ID\"]\n",
    "        peptide = psm[\"Peptide\"]\n",
    "        try: \n",
    "            protein_sequence = uniprot_to_sequence[uniprot_id]\n",
    "            for mod in psm[\"Assigned Modifications parsed\"].split(\"]\"):\n",
    "                if mod == \"\":\n",
    "                    continue\n",
    "                modification = mod.split(\"[\")[1]\n",
    "                position_ptm_in_peptide = int(re.search(\".+?(?=\\D)\", mod)[0])\n",
    "                position_peptide_in_protein = get_start_position_pept_in_prot(peptide, protein_sequence)\n",
    "                position_ptm_in_protein = position_peptide_in_protein + position_ptm_in_peptide\n",
    "\n",
    "                modifications.append(modification)\n",
    "                positions.append(position_ptm_in_protein)\n",
    "                uniprot_ids.append(uniprot_id)\n",
    "                \n",
    "        except KeyError:\n",
    "            protein_sequence = \"\"\n",
    "\n",
    "    zipped = list(zip(uniprot_ids, modifications, positions))\n",
    "    protein_df = pd.DataFrame(zipped, columns=[\"uniprot_id\",\"modification\",\"position\"])\n",
    "\n",
    "    return protein_df"
   ]
  },
  {
   "cell_type": "code",
   "execution_count": 10,
   "metadata": {},
   "outputs": [],
   "source": [
    "def read_msfragger(file):\n",
    "    print(\"Reading MSFragger file...\")\n",
    "    df = pd.read_csv(file, sep = \"\\t\")\n",
    "    df = df[[\"Modified Peptide\", \"Peptide\", \"Protein\", \"Protein ID\", \"Assigned Modifications\"]]\n",
    "    df = df.dropna(subset=[\"Modified Peptide\"])\n",
    "    df = df.drop_duplicates()\n",
    "\n",
    "    # try to assign modifications to mass shifts\n",
    "    print(\"Assigning modifications to mass shifts...\")\n",
    "    df[\"Assigned Modifications parsed\"] = df[\"Assigned Modifications\"].apply(lambda x: map_mass_to_unimod(x))\n",
    "\n",
    "\n",
    "    # rewrite to protein level modifications\n",
    "    print(\"Mapping modification sites onto proteins...\")\n",
    "    protein_modifications = from_psm_to_protein(df)\n",
    "\n",
    "    return protein_modifications"
   ]
  },
  {
   "cell_type": "code",
   "execution_count": 11,
   "metadata": {},
   "outputs": [],
   "source": [
    "def read_openpfind(file):\n",
    "    \n",
    "    return"
   ]
  },
  {
   "cell_type": "code",
   "execution_count": 12,
   "metadata": {},
   "outputs": [
    {
     "name": "stderr",
     "output_type": "stream",
     "text": [
      "2023-04-05 19:04:22.468 | WARNING  | unimod_mapper.unimod_mapper:_parse_in_more_detail_XML:405 - /opt/anaconda3/envs/ptmvis/lib/python3.10/site-packages/unimod_mapper/usermod.xml does not exist\n",
      "2023-04-05 19:04:22.468 | INFO     | unimod_mapper.unimod_mapper:_parse_in_more_detail_XML:408 - Parsing mod xml file (/opt/anaconda3/envs/ptmvis/lib/python3.10/site-packages/unimod_mapper/unimod.xml)\n"
     ]
    },
    {
     "name": "stdout",
     "output_type": "stream",
     "text": [
      "Reading MSFragger file...\n",
      "Assigning modifications to mass shifts...\n",
      "Mapping modification sites onto proteins...\n"
     ]
    }
   ],
   "source": [
    "# try to parse user file\n",
    "try:\n",
    "    df = read_file(user_file, user_flag)\n",
    "except:\n",
    "    print(\"Your file could not be parsed. Have you selected the right format?\")"
   ]
  },
  {
   "cell_type": "code",
   "execution_count": 13,
   "metadata": {},
   "outputs": [
    {
     "data": {
      "text/html": [
       "<div>\n",
       "<style scoped>\n",
       "    .dataframe tbody tr th:only-of-type {\n",
       "        vertical-align: middle;\n",
       "    }\n",
       "\n",
       "    .dataframe tbody tr th {\n",
       "        vertical-align: top;\n",
       "    }\n",
       "\n",
       "    .dataframe thead th {\n",
       "        text-align: right;\n",
       "    }\n",
       "</style>\n",
       "<table border=\"1\" class=\"dataframe\">\n",
       "  <thead>\n",
       "    <tr style=\"text-align: right;\">\n",
       "      <th></th>\n",
       "      <th>uniprot_id</th>\n",
       "      <th>modification</th>\n",
       "      <th>position</th>\n",
       "    </tr>\n",
       "  </thead>\n",
       "  <tbody>\n",
       "    <tr>\n",
       "      <th>0</th>\n",
       "      <td>P02545</td>\n",
       "      <td>Phospho</td>\n",
       "      <td>404</td>\n",
       "    </tr>\n",
       "    <tr>\n",
       "      <th>1</th>\n",
       "      <td>P57081</td>\n",
       "      <td>Phospho</td>\n",
       "      <td>391</td>\n",
       "    </tr>\n",
       "    <tr>\n",
       "      <th>2</th>\n",
       "      <td>Q8TAD8</td>\n",
       "      <td>Phospho</td>\n",
       "      <td>152</td>\n",
       "    </tr>\n",
       "    <tr>\n",
       "      <th>3</th>\n",
       "      <td>P02545</td>\n",
       "      <td>Phospho</td>\n",
       "      <td>403</td>\n",
       "    </tr>\n",
       "    <tr>\n",
       "      <th>4</th>\n",
       "      <td>Q9BZZ5</td>\n",
       "      <td>Phospho</td>\n",
       "      <td>462</td>\n",
       "    </tr>\n",
       "    <tr>\n",
       "      <th>...</th>\n",
       "      <td>...</td>\n",
       "      <td>...</td>\n",
       "      <td>...</td>\n",
       "    </tr>\n",
       "    <tr>\n",
       "      <th>4351</th>\n",
       "      <td>P04406</td>\n",
       "      <td>Phospho</td>\n",
       "      <td>176</td>\n",
       "    </tr>\n",
       "    <tr>\n",
       "      <th>4352</th>\n",
       "      <td>Q13501</td>\n",
       "      <td>Phospho</td>\n",
       "      <td>249</td>\n",
       "    </tr>\n",
       "    <tr>\n",
       "      <th>4353</th>\n",
       "      <td>Q13501</td>\n",
       "      <td>Phospho</td>\n",
       "      <td>243</td>\n",
       "    </tr>\n",
       "    <tr>\n",
       "      <th>4354</th>\n",
       "      <td>Q8TD16</td>\n",
       "      <td>Phospho</td>\n",
       "      <td>329</td>\n",
       "    </tr>\n",
       "    <tr>\n",
       "      <th>4355</th>\n",
       "      <td>Q6P2E9</td>\n",
       "      <td>Phospho</td>\n",
       "      <td>727</td>\n",
       "    </tr>\n",
       "  </tbody>\n",
       "</table>\n",
       "<p>4356 rows × 3 columns</p>\n",
       "</div>"
      ],
      "text/plain": [
       "     uniprot_id modification  position\n",
       "0        P02545      Phospho       404\n",
       "1        P57081      Phospho       391\n",
       "2        Q8TAD8      Phospho       152\n",
       "3        P02545      Phospho       403\n",
       "4        Q9BZZ5      Phospho       462\n",
       "...         ...          ...       ...\n",
       "4351     P04406      Phospho       176\n",
       "4352     Q13501      Phospho       249\n",
       "4353     Q13501      Phospho       243\n",
       "4354     Q8TD16      Phospho       329\n",
       "4355     Q6P2E9      Phospho       727\n",
       "\n",
       "[4356 rows x 3 columns]"
      ]
     },
     "execution_count": 13,
     "metadata": {},
     "output_type": "execute_result"
    }
   ],
   "source": [
    "df"
   ]
  }
 ],
 "metadata": {
  "kernelspec": {
   "display_name": "proteomics",
   "language": "python",
   "name": "python3"
  },
  "language_info": {
   "codemirror_mode": {
    "name": "ipython",
    "version": 3
   },
   "file_extension": ".py",
   "mimetype": "text/x-python",
   "name": "python",
   "nbconvert_exporter": "python",
   "pygments_lexer": "ipython3",
   "version": "3.10.10"
  },
  "orig_nbformat": 4
 },
 "nbformat": 4,
 "nbformat_minor": 2
}
